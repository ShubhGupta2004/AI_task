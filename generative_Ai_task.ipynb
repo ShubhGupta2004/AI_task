{
  "nbformat": 4,
  "nbformat_minor": 0,
  "metadata": {
    "colab": {
      "provenance": [],
      "gpuType": "T4",
      "authorship_tag": "ABX9TyN4uq11mnl84j5y9TlK/Bwd",
      "include_colab_link": true
    },
    "kernelspec": {
      "name": "python3",
      "display_name": "Python 3"
    },
    "language_info": {
      "name": "python"
    },
    "accelerator": "GPU"
  },
  "cells": [
    {
      "cell_type": "markdown",
      "metadata": {
        "id": "view-in-github",
        "colab_type": "text"
      },
      "source": [
        "<a href=\"https://colab.research.google.com/github/ShubhGupta2004/AI_task/blob/main/generative_Ai_task.ipynb\" target=\"_parent\"><img src=\"https://colab.research.google.com/assets/colab-badge.svg\" alt=\"Open In Colab\"/></a>"
      ]
    },
    {
      "cell_type": "code",
      "execution_count": 1,
      "metadata": {
        "id": "ee_NSpA86qV9"
      },
      "outputs": [],
      "source": [
        "import numpy as np\n",
        "import tensorflow as tf\n",
        "from tensorflow.keras.models import Sequential\n",
        "from tensorflow.keras.layers import Embedding, LSTM, Dense\n",
        "from tensorflow.keras.preprocessing.text import Tokenizer\n",
        "from tensorflow.keras.preprocessing.sequence import pad_sequences"
      ]
    },
    {
      "cell_type": "code",
      "source": [
        "# Load the Shakespeare dataset\n",
        "shakespeare_path = \"https://storage.googleapis.com/download.tensorflow.org/data/shakespeare.txt\"\n",
        "text = tf.keras.utils.get_file('shakespeare.txt', shakespeare_path)"
      ],
      "metadata": {
        "colab": {
          "base_uri": "https://localhost:8080/"
        },
        "id": "If73JEdk7Cr4",
        "outputId": "b7492e42-07db-4d55-85c1-87365a3d2208"
      },
      "execution_count": 2,
      "outputs": [
        {
          "output_type": "stream",
          "name": "stdout",
          "text": [
            "Downloading data from https://storage.googleapis.com/download.tensorflow.org/data/shakespeare.txt\n",
            "1115394/1115394 [==============================] - 0s 0us/step\n"
          ]
        }
      ]
    },
    {
      "cell_type": "code",
      "source": [
        "# Read the dataset\n",
        "with open(text, 'r', encoding='utf-8') as f:\n",
        "    text = f.read()"
      ],
      "metadata": {
        "id": "SgCx0MwP7CeF"
      },
      "execution_count": 3,
      "outputs": []
    },
    {
      "cell_type": "code",
      "source": [
        "# Tokenize the text\n",
        "tokenizer = Tokenizer()\n",
        "tokenizer.fit_on_texts([text])\n",
        "total_words = len(tokenizer.word_index) + 1"
      ],
      "metadata": {
        "id": "CC0c5ely7CIU"
      },
      "execution_count": 4,
      "outputs": []
    },
    {
      "cell_type": "code",
      "source": [
        "# Create input sequences and corresponding labels\n",
        "input_sequences = []\n",
        "for i in range(0, len(text) - 100, 1):\n",
        "    sequence = text[i:i+100]  # Use a sequence length of 100 characters\n",
        "    input_sequences.append(sequence)\n",
        "\n",
        "# Convert sequences to numeric data\n",
        "sequences = tokenizer.texts_to_sequences(input_sequences)\n",
        "X = pad_sequences(sequences, maxlen=100, truncating='pre')\n",
        "y = np.array([sequences[i][-1] for i in range(len(sequences))])\n"
      ],
      "metadata": {
        "id": "cjJi-PEh7MHH"
      },
      "execution_count": 11,
      "outputs": []
    },
    {
      "cell_type": "code",
      "source": [
        "# Build the model\n",
        "model = Sequential()\n",
        "model.add(Embedding(total_words, 50, input_length=100))\n",
        "model.add(LSTM(100, return_sequences=True))\n",
        "model.add(LSTM(100))\n",
        "model.add(Dense(total_words, activation='softmax'))\n",
        "\n",
        "model.compile(optimizer='adam', loss='sparse_categorical_crossentropy', metrics=['accuracy'])\n",
        "\n",
        "# Train the model\n",
        "model.fit(X, y, epochs=10, verbose=1)\n",
        "\n",
        "# Generate text\n",
        "seed_text = \"The sun\"\n",
        "next_words = 100\n",
        "\n",
        "for _ in range(next_words):\n",
        "    token_list = tokenizer.texts_to_sequences([seed_text])[0]\n",
        "    token_list = pad_sequences([token_list], maxlen=100, truncating='pre')\n",
        "    predicted = np.argmax(model.predict(token_list, verbose=0), axis=-1)\n",
        "    output_word = \"\"\n",
        "    for word, index in tokenizer.word_index.items():\n",
        "        if index == predicted:\n",
        "            output_word = word\n",
        "            break\n",
        "    seed_text += \" \" + output_word\n",
        "\n",
        "print(seed_text)"
      ],
      "metadata": {
        "colab": {
          "base_uri": "https://localhost:8080/"
        },
        "id": "ZEyAUeZY9ray",
        "outputId": "dc63eead-0d38-4b0e-9b90-32284a409596"
      },
      "execution_count": null,
      "outputs": [
        {
          "output_type": "stream",
          "name": "stdout",
          "text": [
            "Epoch 1/10\n",
            "34853/34853 [==============================] - 497s 14ms/step - loss: 3.7197 - accuracy: 0.3230\n",
            "Epoch 2/10\n",
            "34853/34853 [==============================] - 467s 13ms/step - loss: 2.1246 - accuracy: 0.6859\n",
            "Epoch 3/10\n",
            "34853/34853 [==============================] - 477s 14ms/step - loss: 1.1860 - accuracy: 0.8341\n",
            "Epoch 4/10\n",
            "34853/34853 [==============================] - 477s 14ms/step - loss: 0.7195 - accuracy: 0.8910\n",
            "Epoch 5/10\n",
            "34853/34853 [==============================] - 466s 13ms/step - loss: 0.4785 - accuracy: 0.9269\n",
            "Epoch 6/10\n",
            "17618/34853 [==============>...............] - ETA: 3:51 - loss: 0.3583 - accuracy: 0.9451"
          ]
        }
      ]
    }
  ]
}